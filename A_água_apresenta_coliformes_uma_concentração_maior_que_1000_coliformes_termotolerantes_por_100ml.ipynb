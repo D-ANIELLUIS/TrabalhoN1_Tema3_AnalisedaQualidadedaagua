{
  "nbformat": 4,
  "nbformat_minor": 0,
  "metadata": {
    "colab": {
      "provenance": [],
      "authorship_tag": "ABX9TyM8QtmI1GGC8LAY0i/4pvQR",
      "include_colab_link": true
    },
    "kernelspec": {
      "name": "python3",
      "display_name": "Python 3"
    },
    "language_info": {
      "name": "python"
    }
  },
  "cells": [
    {
      "cell_type": "markdown",
      "metadata": {
        "id": "view-in-github",
        "colab_type": "text"
      },
      "source": [
        "<a href=\"https://colab.research.google.com/github/D-ANIELLUIS/TrabalhoN1_Tema3_AnalisedaQualidadedaagua/blob/main/A_%C3%A1gua_apresenta_coliformes_uma_concentra%C3%A7%C3%A3o_maior_que_1000_coliformes_termotolerantes_por_100ml.ipynb\" target=\"_parent\"><img src=\"https://colab.research.google.com/assets/colab-badge.svg\" alt=\"Open In Colab\"/></a>"
      ]
    },
    {
      "cell_type": "markdown",
      "source": [
        "Faça um algoritmo que retorne se quais os valores dos efeito tóxico agudo a organismos"
      ],
      "metadata": {
        "id": "u7q-HGMErWXp"
      }
    },
    {
      "cell_type": "code",
      "source": [
        "#\"g\": \"A água apresenta coliformes uma concentração maior que 1000 coliformes termotolerantes por 100ml?  fonte: https://www.siam.mg.gov.br/sla/download.pdf?idNorma=2747\n",
        "coliformes_termotolerantes = int(input(\"Digite a quantidade de coliformes termotolerantes por 100ml: \"))\n",
        "\n",
        "if coliformes_termotolerantes > 1000: #informa que o valor esta acima do permitido.\n",
        "  print (\"A água uma concentração maior que 1000 coliformes termotolerantes por 100ml!\")\n",
        "elif coliformes_termotolerantes <= 1000 and coliformes_termotolerantes >= 0: #parametro 'g' da qualidade da água classe 3.\n",
        "  print (\"A água esta de acordo com a 'Resolução CONAMA nº 357, de 17 de março de 2005'!\")\n",
        "else: #retorna que não foi definido valores para o qual foi inserido.\n",
        "  print (\"Valor inválido!\")"
      ],
      "metadata": {
        "colab": {
          "base_uri": "https://localhost:8080/"
        },
        "id": "p2hiAuFV4IEZ",
        "outputId": "0f859e9f-c3aa-40b4-d498-940040fd69dc"
      },
      "execution_count": 26,
      "outputs": [
        {
          "output_type": "stream",
          "name": "stdout",
          "text": [
            "Digite a quantidade de coliformes termotolerantes por 100ml: 1001\n",
            "A água uma concentração maior que 1000 coliformes termotolerantes por 100ml!\n"
          ]
        }
      ]
    }
  ]
}