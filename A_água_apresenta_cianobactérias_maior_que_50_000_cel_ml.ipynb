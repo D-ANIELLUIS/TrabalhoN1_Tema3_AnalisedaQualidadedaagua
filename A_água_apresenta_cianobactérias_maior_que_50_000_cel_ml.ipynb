{
  "nbformat": 4,
  "nbformat_minor": 0,
  "metadata": {
    "colab": {
      "provenance": [],
      "authorship_tag": "ABX9TyNsdDQi29RGcvpW6/vaYDsJ",
      "include_colab_link": true
    },
    "kernelspec": {
      "name": "python3",
      "display_name": "Python 3"
    },
    "language_info": {
      "name": "python"
    }
  },
  "cells": [
    {
      "cell_type": "markdown",
      "metadata": {
        "id": "view-in-github",
        "colab_type": "text"
      },
      "source": [
        "<a href=\"https://colab.research.google.com/github/D-ANIELLUIS/TrabalhoN1_Tema3_AnalisedaQualidadedaagua/blob/main/A_%C3%A1gua_apresenta_cianobact%C3%A9rias_maior_que_50_000_cel_ml.ipynb\" target=\"_parent\"><img src=\"https://colab.research.google.com/assets/colab-badge.svg\" alt=\"Open In Colab\"/></a>"
      ]
    },
    {
      "cell_type": "markdown",
      "source": [
        "Faça um algoritmo que retorne se a água segue os parametros recomendados para cianobactérias"
      ],
      "metadata": {
        "id": "ChaZd7es3Aip"
      }
    },
    {
      "cell_type": "code",
      "execution_count": 19,
      "metadata": {
        "colab": {
          "base_uri": "https://localhost:8080/"
        },
        "id": "bOMsuBmU2eqs",
        "outputId": "554d4354-1803-444f-d491-580ce7ac136b"
      },
      "outputs": [
        {
          "output_type": "stream",
          "name": "stdout",
          "text": [
            "Digite a quantidade de cianobactérias presentes na água(cel/ml): 10\n",
            "A água apresenta cianobactérias menor que 50.000 cel/ml, logo não deve ser corrigido.\n"
          ]
        }
      ],
      "source": [
        "# \"h\": \"A água apresenta cianobactérias maior que 50.000 cel/ml ou 5mm³/L? \" fonte: https://www.siam.mg.gov.br/sla/download.pdf?idNorma=2747\n",
        "\n",
        "ciano = float(input(\"Digite a quantidade de cianobactérias presentes na água(cel/ml): \"))\n",
        "\n",
        "if ciano > 50000:\n",
        "  print(\"A água apresenta cianobactérias maior que 50.000 cel/ml, logo deve ser corrigido.\") #foi verificado que se deixar o usuario usar as duas opções terá que sofisticar mais o programa.\n",
        "\n",
        "elif 0 <= ciano <= 50000:\n",
        "  print(\"A água apresenta cianobactérias menor que 50.000 cel/ml, logo não deve ser corrigido.\")\n",
        "elif ciano < 0:\n",
        "  print(\"Valor inválido!\")\n"
      ]
    }
  ]
}